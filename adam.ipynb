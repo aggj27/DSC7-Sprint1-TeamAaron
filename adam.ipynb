{
 "cells": [
  {
   "cell_type": "code",
   "execution_count": 6,
   "id": "f430168f",
   "metadata": {},
   "outputs": [],
   "source": [
    "import pandas as pd\n",
    "import numpy as np\n",
    "import matplotlib.pyplot as plt\n",
    "import seaborn as sns"
   ]
  },
  {
   "cell_type": "code",
   "execution_count": 7,
   "id": "ebff877f",
   "metadata": {},
   "outputs": [
    {
     "ename": "FileNotFoundError",
     "evalue": "[Errno 2] No such file or directory: 'Masterlist of Schools.csv'",
     "output_type": "error",
     "traceback": [
      "\u001b[1;31m---------------------------------------------------------------------------\u001b[0m",
      "\u001b[1;31mFileNotFoundError\u001b[0m                         Traceback (most recent call last)",
      "\u001b[1;32m<ipython-input-7-ebe6f56f11f4>\u001b[0m in \u001b[0;36m<module>\u001b[1;34m\u001b[0m\n\u001b[1;32m----> 1\u001b[1;33m \u001b[0mmasterfinal\u001b[0m \u001b[1;33m=\u001b[0m \u001b[0mpd\u001b[0m\u001b[1;33m.\u001b[0m\u001b[0mread_csv\u001b[0m\u001b[1;33m(\u001b[0m\u001b[1;34m\"Masterlist of Schools.csv\"\u001b[0m\u001b[1;33m)\u001b[0m\u001b[1;33m\u001b[0m\u001b[1;33m\u001b[0m\u001b[0m\n\u001b[0m\u001b[0;32m      2\u001b[0m \u001b[0mlocation\u001b[0m \u001b[1;33m=\u001b[0m \u001b[0mpd\u001b[0m\u001b[1;33m.\u001b[0m\u001b[0mread_csv\u001b[0m\u001b[1;33m(\u001b[0m\u001b[1;34m\"Schools Location Data.csv\"\u001b[0m\u001b[1;33m)\u001b[0m\u001b[1;33m\u001b[0m\u001b[1;33m\u001b[0m\u001b[0m\n\u001b[0;32m      3\u001b[0m \u001b[0mrooms\u001b[0m \u001b[1;33m=\u001b[0m \u001b[0mpd\u001b[0m\u001b[1;33m.\u001b[0m\u001b[0mread_csv\u001b[0m\u001b[1;33m(\u001b[0m\u001b[1;34m\"Rooms data.csv\"\u001b[0m\u001b[1;33m)\u001b[0m\u001b[1;33m\u001b[0m\u001b[1;33m\u001b[0m\u001b[0m\n\u001b[0;32m      4\u001b[0m \u001b[0mmooe\u001b[0m \u001b[1;33m=\u001b[0m \u001b[0mpd\u001b[0m\u001b[1;33m.\u001b[0m\u001b[0mread_csv\u001b[0m\u001b[1;33m(\u001b[0m\u001b[1;34m\"MOOE data.csv\"\u001b[0m\u001b[1;33m)\u001b[0m\u001b[1;33m\u001b[0m\u001b[1;33m\u001b[0m\u001b[0m\n\u001b[0;32m      5\u001b[0m \u001b[0mteachers\u001b[0m \u001b[1;33m=\u001b[0m \u001b[0mpd\u001b[0m\u001b[1;33m.\u001b[0m\u001b[0mread_csv\u001b[0m\u001b[1;33m(\u001b[0m\u001b[1;34m\"Teachers data.csv\"\u001b[0m\u001b[1;33m)\u001b[0m\u001b[1;33m\u001b[0m\u001b[1;33m\u001b[0m\u001b[0m\n",
      "\u001b[1;32mC:\\ProgramData\\Anaconda3\\lib\\site-packages\\pandas\\io\\parsers.py\u001b[0m in \u001b[0;36mread_csv\u001b[1;34m(filepath_or_buffer, sep, delimiter, header, names, index_col, usecols, squeeze, prefix, mangle_dupe_cols, dtype, engine, converters, true_values, false_values, skipinitialspace, skiprows, skipfooter, nrows, na_values, keep_default_na, na_filter, verbose, skip_blank_lines, parse_dates, infer_datetime_format, keep_date_col, date_parser, dayfirst, cache_dates, iterator, chunksize, compression, thousands, decimal, lineterminator, quotechar, quoting, doublequote, escapechar, comment, encoding, dialect, error_bad_lines, warn_bad_lines, delim_whitespace, low_memory, memory_map, float_precision, storage_options)\u001b[0m\n\u001b[0;32m    608\u001b[0m     \u001b[0mkwds\u001b[0m\u001b[1;33m.\u001b[0m\u001b[0mupdate\u001b[0m\u001b[1;33m(\u001b[0m\u001b[0mkwds_defaults\u001b[0m\u001b[1;33m)\u001b[0m\u001b[1;33m\u001b[0m\u001b[1;33m\u001b[0m\u001b[0m\n\u001b[0;32m    609\u001b[0m \u001b[1;33m\u001b[0m\u001b[0m\n\u001b[1;32m--> 610\u001b[1;33m     \u001b[1;32mreturn\u001b[0m \u001b[0m_read\u001b[0m\u001b[1;33m(\u001b[0m\u001b[0mfilepath_or_buffer\u001b[0m\u001b[1;33m,\u001b[0m \u001b[0mkwds\u001b[0m\u001b[1;33m)\u001b[0m\u001b[1;33m\u001b[0m\u001b[1;33m\u001b[0m\u001b[0m\n\u001b[0m\u001b[0;32m    611\u001b[0m \u001b[1;33m\u001b[0m\u001b[0m\n\u001b[0;32m    612\u001b[0m \u001b[1;33m\u001b[0m\u001b[0m\n",
      "\u001b[1;32mC:\\ProgramData\\Anaconda3\\lib\\site-packages\\pandas\\io\\parsers.py\u001b[0m in \u001b[0;36m_read\u001b[1;34m(filepath_or_buffer, kwds)\u001b[0m\n\u001b[0;32m    460\u001b[0m \u001b[1;33m\u001b[0m\u001b[0m\n\u001b[0;32m    461\u001b[0m     \u001b[1;31m# Create the parser.\u001b[0m\u001b[1;33m\u001b[0m\u001b[1;33m\u001b[0m\u001b[1;33m\u001b[0m\u001b[0m\n\u001b[1;32m--> 462\u001b[1;33m     \u001b[0mparser\u001b[0m \u001b[1;33m=\u001b[0m \u001b[0mTextFileReader\u001b[0m\u001b[1;33m(\u001b[0m\u001b[0mfilepath_or_buffer\u001b[0m\u001b[1;33m,\u001b[0m \u001b[1;33m**\u001b[0m\u001b[0mkwds\u001b[0m\u001b[1;33m)\u001b[0m\u001b[1;33m\u001b[0m\u001b[1;33m\u001b[0m\u001b[0m\n\u001b[0m\u001b[0;32m    463\u001b[0m \u001b[1;33m\u001b[0m\u001b[0m\n\u001b[0;32m    464\u001b[0m     \u001b[1;32mif\u001b[0m \u001b[0mchunksize\u001b[0m \u001b[1;32mor\u001b[0m \u001b[0miterator\u001b[0m\u001b[1;33m:\u001b[0m\u001b[1;33m\u001b[0m\u001b[1;33m\u001b[0m\u001b[0m\n",
      "\u001b[1;32mC:\\ProgramData\\Anaconda3\\lib\\site-packages\\pandas\\io\\parsers.py\u001b[0m in \u001b[0;36m__init__\u001b[1;34m(self, f, engine, **kwds)\u001b[0m\n\u001b[0;32m    817\u001b[0m             \u001b[0mself\u001b[0m\u001b[1;33m.\u001b[0m\u001b[0moptions\u001b[0m\u001b[1;33m[\u001b[0m\u001b[1;34m\"has_index_names\"\u001b[0m\u001b[1;33m]\u001b[0m \u001b[1;33m=\u001b[0m \u001b[0mkwds\u001b[0m\u001b[1;33m[\u001b[0m\u001b[1;34m\"has_index_names\"\u001b[0m\u001b[1;33m]\u001b[0m\u001b[1;33m\u001b[0m\u001b[1;33m\u001b[0m\u001b[0m\n\u001b[0;32m    818\u001b[0m \u001b[1;33m\u001b[0m\u001b[0m\n\u001b[1;32m--> 819\u001b[1;33m         \u001b[0mself\u001b[0m\u001b[1;33m.\u001b[0m\u001b[0m_engine\u001b[0m \u001b[1;33m=\u001b[0m \u001b[0mself\u001b[0m\u001b[1;33m.\u001b[0m\u001b[0m_make_engine\u001b[0m\u001b[1;33m(\u001b[0m\u001b[0mself\u001b[0m\u001b[1;33m.\u001b[0m\u001b[0mengine\u001b[0m\u001b[1;33m)\u001b[0m\u001b[1;33m\u001b[0m\u001b[1;33m\u001b[0m\u001b[0m\n\u001b[0m\u001b[0;32m    820\u001b[0m \u001b[1;33m\u001b[0m\u001b[0m\n\u001b[0;32m    821\u001b[0m     \u001b[1;32mdef\u001b[0m \u001b[0mclose\u001b[0m\u001b[1;33m(\u001b[0m\u001b[0mself\u001b[0m\u001b[1;33m)\u001b[0m\u001b[1;33m:\u001b[0m\u001b[1;33m\u001b[0m\u001b[1;33m\u001b[0m\u001b[0m\n",
      "\u001b[1;32mC:\\ProgramData\\Anaconda3\\lib\\site-packages\\pandas\\io\\parsers.py\u001b[0m in \u001b[0;36m_make_engine\u001b[1;34m(self, engine)\u001b[0m\n\u001b[0;32m   1048\u001b[0m             )\n\u001b[0;32m   1049\u001b[0m         \u001b[1;31m# error: Too many arguments for \"ParserBase\"\u001b[0m\u001b[1;33m\u001b[0m\u001b[1;33m\u001b[0m\u001b[1;33m\u001b[0m\u001b[0m\n\u001b[1;32m-> 1050\u001b[1;33m         \u001b[1;32mreturn\u001b[0m \u001b[0mmapping\u001b[0m\u001b[1;33m[\u001b[0m\u001b[0mengine\u001b[0m\u001b[1;33m]\u001b[0m\u001b[1;33m(\u001b[0m\u001b[0mself\u001b[0m\u001b[1;33m.\u001b[0m\u001b[0mf\u001b[0m\u001b[1;33m,\u001b[0m \u001b[1;33m**\u001b[0m\u001b[0mself\u001b[0m\u001b[1;33m.\u001b[0m\u001b[0moptions\u001b[0m\u001b[1;33m)\u001b[0m  \u001b[1;31m# type: ignore[call-arg]\u001b[0m\u001b[1;33m\u001b[0m\u001b[1;33m\u001b[0m\u001b[0m\n\u001b[0m\u001b[0;32m   1051\u001b[0m \u001b[1;33m\u001b[0m\u001b[0m\n\u001b[0;32m   1052\u001b[0m     \u001b[1;32mdef\u001b[0m \u001b[0m_failover_to_python\u001b[0m\u001b[1;33m(\u001b[0m\u001b[0mself\u001b[0m\u001b[1;33m)\u001b[0m\u001b[1;33m:\u001b[0m\u001b[1;33m\u001b[0m\u001b[1;33m\u001b[0m\u001b[0m\n",
      "\u001b[1;32mC:\\ProgramData\\Anaconda3\\lib\\site-packages\\pandas\\io\\parsers.py\u001b[0m in \u001b[0;36m__init__\u001b[1;34m(self, src, **kwds)\u001b[0m\n\u001b[0;32m   1865\u001b[0m \u001b[1;33m\u001b[0m\u001b[0m\n\u001b[0;32m   1866\u001b[0m         \u001b[1;31m# open handles\u001b[0m\u001b[1;33m\u001b[0m\u001b[1;33m\u001b[0m\u001b[1;33m\u001b[0m\u001b[0m\n\u001b[1;32m-> 1867\u001b[1;33m         \u001b[0mself\u001b[0m\u001b[1;33m.\u001b[0m\u001b[0m_open_handles\u001b[0m\u001b[1;33m(\u001b[0m\u001b[0msrc\u001b[0m\u001b[1;33m,\u001b[0m \u001b[0mkwds\u001b[0m\u001b[1;33m)\u001b[0m\u001b[1;33m\u001b[0m\u001b[1;33m\u001b[0m\u001b[0m\n\u001b[0m\u001b[0;32m   1868\u001b[0m         \u001b[1;32massert\u001b[0m \u001b[0mself\u001b[0m\u001b[1;33m.\u001b[0m\u001b[0mhandles\u001b[0m \u001b[1;32mis\u001b[0m \u001b[1;32mnot\u001b[0m \u001b[1;32mNone\u001b[0m\u001b[1;33m\u001b[0m\u001b[1;33m\u001b[0m\u001b[0m\n\u001b[0;32m   1869\u001b[0m         \u001b[1;32mfor\u001b[0m \u001b[0mkey\u001b[0m \u001b[1;32min\u001b[0m \u001b[1;33m(\u001b[0m\u001b[1;34m\"storage_options\"\u001b[0m\u001b[1;33m,\u001b[0m \u001b[1;34m\"encoding\"\u001b[0m\u001b[1;33m,\u001b[0m \u001b[1;34m\"memory_map\"\u001b[0m\u001b[1;33m,\u001b[0m \u001b[1;34m\"compression\"\u001b[0m\u001b[1;33m)\u001b[0m\u001b[1;33m:\u001b[0m\u001b[1;33m\u001b[0m\u001b[1;33m\u001b[0m\u001b[0m\n",
      "\u001b[1;32mC:\\ProgramData\\Anaconda3\\lib\\site-packages\\pandas\\io\\parsers.py\u001b[0m in \u001b[0;36m_open_handles\u001b[1;34m(self, src, kwds)\u001b[0m\n\u001b[0;32m   1360\u001b[0m         \u001b[0mLet\u001b[0m \u001b[0mthe\u001b[0m \u001b[0mreaders\u001b[0m \u001b[0mopen\u001b[0m \u001b[0mIOHanldes\u001b[0m \u001b[0mafter\u001b[0m \u001b[0mthey\u001b[0m \u001b[0mare\u001b[0m \u001b[0mdone\u001b[0m \u001b[1;32mwith\u001b[0m \u001b[0mtheir\u001b[0m \u001b[0mpotential\u001b[0m \u001b[0mraises\u001b[0m\u001b[1;33m.\u001b[0m\u001b[1;33m\u001b[0m\u001b[1;33m\u001b[0m\u001b[0m\n\u001b[0;32m   1361\u001b[0m         \"\"\"\n\u001b[1;32m-> 1362\u001b[1;33m         self.handles = get_handle(\n\u001b[0m\u001b[0;32m   1363\u001b[0m             \u001b[0msrc\u001b[0m\u001b[1;33m,\u001b[0m\u001b[1;33m\u001b[0m\u001b[1;33m\u001b[0m\u001b[0m\n\u001b[0;32m   1364\u001b[0m             \u001b[1;34m\"r\"\u001b[0m\u001b[1;33m,\u001b[0m\u001b[1;33m\u001b[0m\u001b[1;33m\u001b[0m\u001b[0m\n",
      "\u001b[1;32mC:\\ProgramData\\Anaconda3\\lib\\site-packages\\pandas\\io\\common.py\u001b[0m in \u001b[0;36mget_handle\u001b[1;34m(path_or_buf, mode, encoding, compression, memory_map, is_text, errors, storage_options)\u001b[0m\n\u001b[0;32m    640\u001b[0m                 \u001b[0merrors\u001b[0m \u001b[1;33m=\u001b[0m \u001b[1;34m\"replace\"\u001b[0m\u001b[1;33m\u001b[0m\u001b[1;33m\u001b[0m\u001b[0m\n\u001b[0;32m    641\u001b[0m             \u001b[1;31m# Encoding\u001b[0m\u001b[1;33m\u001b[0m\u001b[1;33m\u001b[0m\u001b[1;33m\u001b[0m\u001b[0m\n\u001b[1;32m--> 642\u001b[1;33m             handle = open(\n\u001b[0m\u001b[0;32m    643\u001b[0m                 \u001b[0mhandle\u001b[0m\u001b[1;33m,\u001b[0m\u001b[1;33m\u001b[0m\u001b[1;33m\u001b[0m\u001b[0m\n\u001b[0;32m    644\u001b[0m                 \u001b[0mioargs\u001b[0m\u001b[1;33m.\u001b[0m\u001b[0mmode\u001b[0m\u001b[1;33m,\u001b[0m\u001b[1;33m\u001b[0m\u001b[1;33m\u001b[0m\u001b[0m\n",
      "\u001b[1;31mFileNotFoundError\u001b[0m: [Errno 2] No such file or directory: 'Masterlist of Schools.csv'"
     ]
    }
   ],
   "source": [
    "\n",
    "masterfinal = pd.read_csv(\"Masterlist of Schools.csv\")\n",
    "location = pd.read_csv(\"Schools Location Data.csv\")\n",
    "rooms = pd.read_csv(\"Rooms data.csv\")\n",
    "mooe = pd.read_csv(\"MOOE data.csv\")\n",
    "teachers = pd.read_csv(\"Teachers data.csv\")\n",
    "lit = pd.read_csv(\"Regional_Functional_Literacy_Rate_2015.csv\")\n",
    "stratio = pd.read_csv(\"stratio.csv\")"
   ]
  },
  {
   "cell_type": "code",
   "execution_count": null,
   "id": "af76a22a",
   "metadata": {},
   "outputs": [],
   "source": [
    "masterfinal['school.cityincome'].unique()\n"
   ]
  },
  {
   "cell_type": "code",
   "execution_count": null,
   "id": "fcc1c951",
   "metadata": {},
   "outputs": [],
   "source": [
    "#mean number of teachers per city and compare that to income of that city \n",
    "#aggregation of data per city in terms of the number of teachers and correlate it with the income of data \n",
    "#generate scatter plot - see if theres a negative or positive correlation "
   ]
  },
  {
   "cell_type": "code",
   "execution_count": null,
   "id": "b218312a",
   "metadata": {},
   "outputs": [],
   "source": [
    "city_income_corrections={\n",
    "    \"P 25 M or more but less than P 35 M\":30000000,\n",
    "    \"P 35 M or more but less than P 45 M\":40000000,\n",
    "    \"P 15 M or more but less than P 25 M\":20000000,\n",
    "    \"P 45 M or more but less than P 55 M\":50000000,\n",
    "    \"P 160 M or more but less than P 240 M\":200000000,\n",
    "    \"P 240 M or more but less than P 320 M\":280000000,\n",
    "    \"P 55 M or more\":55000000,\n",
    "    \"P 320 M or more but less than P 400 M\":360000000,\n",
    "    \"P 400 M or more\":400000000,\n",
    "    \"Below P 15 M\":15000000,\n",
    "    \"P 80 M or more but less than P 160 M\":120000000\n",
    "}\n",
    "\n",
    "incorrect_city_income_format = list(city_income_corrections.keys())\n",
    "\n",
    "def assign_city_income(x):\n",
    "  if x[\"school.cityincome\"] in incorrect_city_income_format:\n",
    "    corrected_city_income=city_income_corrections[x[\"school.cityincome\"]]\n",
    "    x[\"school.cityincome\"]=corrected_city_income\n",
    "\n",
    "  return x\n",
    "\n",
    "masterfinal = masterfinal.apply(lambda x: assign_city_income(x), axis=1)\n",
    "\n",
    "\n",
    "masterfinal.dropna()\n",
    "masterfinal = masterfinal[masterfinal[\"school.cityincome\"] != \"Special Class\"]\n",
    "\n",
    "masterfinal"
   ]
  },
  {
   "cell_type": "code",
   "execution_count": null,
   "id": "40c5328c",
   "metadata": {},
   "outputs": [],
   "source": [
    "df_all = pd.merge(masterfinal, teachers, how='left', on ='school.id')\n",
    "df_all.groupby([\"school.province\"])[[\"school.cityincome\", \"teachers.instructor\", \"teachers.mobile\", \"teachers.regular\", \"teachers.sped\"]].sum()\n",
    "\n",
    "df_all[\"total_teachers\"] = (df_all[\"teachers.instructor\"] +df_all[\"teachers.mobile\"]+df_all[\"teachers.regular\"]+df_all[\"teachers.sped\"])\n",
    "\n"
   ]
  },
  {
   "cell_type": "code",
   "execution_count": null,
   "id": "c50021d1",
   "metadata": {},
   "outputs": [],
   "source": []
  },
  {
   "cell_type": "code",
   "execution_count": null,
   "id": "689cd245",
   "metadata": {},
   "outputs": [],
   "source": [
    "\n",
    "df_enrollment = pd.merge(masterfinal, mooe, how = 'left', on = 'school.id')\n",
    "\n",
    "\n",
    "df_enrollment_final = df_enrollment.groupby([\"school.province\"])[[\"school.cityincome\", \"school.enrollment\"]].apply(lambda x : x.sum())\n",
    "df_enrollment_final\n",
    "#df_enrollment_final.columns = ['Schools_Income', 'Schools_Enrollment']\n",
    "\n"
   ]
  },
  {
   "cell_type": "code",
   "execution_count": null,
   "id": "b1ab1384",
   "metadata": {},
   "outputs": [],
   "source": [
    "df_enrollment_final"
   ]
  },
  {
   "cell_type": "code",
   "execution_count": null,
   "id": "fa567a05",
   "metadata": {},
   "outputs": [],
   "source": [
    "lit"
   ]
  },
  {
   "cell_type": "code",
   "execution_count": null,
   "id": "f46fb04e",
   "metadata": {},
   "outputs": [],
   "source": [
    "stratio"
   ]
  },
  {
   "cell_type": "code",
   "execution_count": null,
   "id": "5d55ab37",
   "metadata": {},
   "outputs": [],
   "source": [
    "df_rooms = pd.merge(masterfinal, rooms, how='left', on ='school.id')\n",
    "df_rooms.groupby([\"school.province\"])[[\"school.cityincome\", \"rooms.standard.academic\", \"rooms.standard.unused\", \"rooms.nonstandard.academic\", \"rooms.nonstandard.unused\"]].sum()\n",
    "\n",
    "df_rooms[\"total_rooms\"] = (df_rooms[\"rooms.standard.academic\"] +df_rooms[\"rooms.standard.unused\"]+df_rooms[\"rooms.nonstandard.academic\"]+df_rooms[\"rooms.nonstandard.unused\"])\n",
    "\n",
    "df_rooms_final = df_rooms.groupby([\"school.province\"])[[\"school.cityincome\", \"total_rooms\"]].apply(lambda x : x.sum())\n",
    "\n",
    "df_rooms_final.columns = ['Schools_Income', 'Schools_Rooms']\n",
    "df_rooms_final\n"
   ]
  },
  {
   "cell_type": "code",
   "execution_count": null,
   "id": "f5c92a73",
   "metadata": {},
   "outputs": [],
   "source": []
  },
  {
   "cell_type": "code",
   "execution_count": null,
   "id": "db0498ed",
   "metadata": {},
   "outputs": [],
   "source": [
    "# Get indexes where name column doesn't have value \n",
    "indexNames = df_all[(df_all['school.cityincome'] == 'Special Class')].index \n",
    "# Delete these row indexes from dataFrame\n",
    "df_all.drop(indexNames, inplace=True)\n",
    "\n",
    "\n",
    "\n",
    "df_final = df_all.groupby([\"school.province\"])[[\"school.cityincome\", \"total_teachers\"]].apply(lambda x : x.sum())\n",
    "df_final.columns = ['Schools_Income', 'Schools_Teachers']\n",
    "\n",
    "df_final\n",
    "\n"
   ]
  },
  {
   "cell_type": "code",
   "execution_count": null,
   "id": "44cc8480",
   "metadata": {},
   "outputs": [],
   "source": [
    "plt.figure(figsize=(8,6))\n",
    "plt.scatter(df_final[\"Schools_Income\"], df_final[\"Schools_Teachers\"])\n",
    "plt.title(\"Relationship Between Income Level of a Given Region and Teacher Availability\", fontsize=14)\n",
    "plt.ylabel(\"Number of Teachers\")\n",
    "plt.xlabel(\"Income Level (1*10^11)\")\n",
    "plt.show()\n",
    "#df_final[\"ratio\"] = df_final[\"total_teachers\"]/df_final[\"school.cityincome\"]\n",
    "\n",
    "#df_final.plot.bar(stacked=True)\n",
    "\n",
    "\n"
   ]
  },
  {
   "cell_type": "code",
   "execution_count": null,
   "id": "793dc76c",
   "metadata": {},
   "outputs": [],
   "source": [
    "plt.figure(figsize=(8,6))\n",
    "plt.scatter(df_enrollment_final[\"Schools_Income\"], df_enrollment_final[\"Schools_Enrollment\"])\n",
    "plt.title(\"Relationship Between Income Level of a Given Region and Enrollment\", fontsize=14)\n",
    "plt.ylabel(\"Number of Enrollment\")\n",
    "plt.xlabel(\"Income Level (1*10^11)\")\n",
    "plt.show()"
   ]
  },
  {
   "cell_type": "code",
   "execution_count": null,
   "id": "f31a01e3",
   "metadata": {},
   "outputs": [],
   "source": [
    "plt.figure(figsize=(8,6))\n",
    "plt.scatter(df_rooms_final[\"Schools_Income\"], df_rooms_final[\"Schools_Rooms\"])\n",
    "plt.title(\"Relationship Between Income Level of a Given Region and Room Availability\", fontsize=14)\n",
    "plt.ylabel(\"Number of Rooms Available\")\n",
    "plt.xlabel(\"Income Level (1*10^11)\")\n",
    "plt.show()"
   ]
  },
  {
   "cell_type": "code",
   "execution_count": null,
   "id": "588a3121",
   "metadata": {},
   "outputs": [],
   "source": [
    "plt.figure(figsize=(8,6))\n",
    "plt.scatter(lit[\"school.cityincome\"], lit[\"literacy_rate\"])\n",
    "plt.title(\"Relationship Between Income Level of a Given Region and Literacy Rate\", fontsize=14)\n",
    "plt.ylabel(\"Literacy Rate\")\n",
    "plt.xlabel(\"Income Level (1*10^11)\")\n",
    "plt.show()\n",
    "lit.corr()\n"
   ]
  },
  {
   "cell_type": "code",
   "execution_count": null,
   "id": "48a8add5",
   "metadata": {},
   "outputs": [],
   "source": [
    "plt.figure(figsize=(8,6))\n",
    "plt.scatter(stratio[\"school.cityincome\"], stratio[\"student_teacher_ratio\"])\n",
    "plt.title(\"Relationship Between Income Level of a Given Region and Student Teacher Ratio\", fontsize=14)\n",
    "plt.ylabel(\"Student Teacher Ratio\")\n",
    "plt.xlabel(\"Income Level (1*10^11)\")\n",
    "plt.show()\n",
    "stratio.corr()"
   ]
  },
  {
   "cell_type": "code",
   "execution_count": null,
   "id": "fbbf582c",
   "metadata": {},
   "outputs": [],
   "source": []
  },
  {
   "cell_type": "code",
   "execution_count": null,
   "id": "afa9e257",
   "metadata": {},
   "outputs": [],
   "source": [
    "merged_df = pd.merge(df_enrollment_final, df_rooms_final, on=\"Schools_Income\")\n",
    "merged_df.columns = ['Schools_Income', 'Schools_Enrollment', 'Schools_Rooms']\n",
    "\n",
    "\n",
    "#df_enrollment_final.columns = ['Schools_Income', 'Schools_Enrollment']\n",
    "\n",
    "merged_df_2 = pd.merge(merged_df, df_final, on=\"Schools_Income\")\n",
    "merged_df_2.columns = ['Schools_Income', 'Schools_Enrollment', 'Schools_Rooms', 'Schools_Teachers']\n",
    "\n",
    "merged_df_2\n",
    "\n",
    "merged_df_2.corr()"
   ]
  },
  {
   "cell_type": "code",
   "execution_count": null,
   "id": "43bc5930",
   "metadata": {},
   "outputs": [],
   "source": [
    "plt.figure(figsize=(10,8))\n",
    "\n",
    "sns.heatmap(merged_df_2.corr(), center=1, annot=True)\n",
    "\n",
    "plt.show()"
   ]
  },
  {
   "cell_type": "code",
   "execution_count": null,
   "id": "4102d4a1",
   "metadata": {},
   "outputs": [],
   "source": [
    "cor1 = df_final.corr()\n",
    "cor1"
   ]
  },
  {
   "cell_type": "code",
   "execution_count": null,
   "id": "5e3458fb",
   "metadata": {},
   "outputs": [],
   "source": [
    "cor2 = df_rooms_final.corr()\n",
    "cor2"
   ]
  },
  {
   "cell_type": "code",
   "execution_count": null,
   "id": "8a6f4dc6",
   "metadata": {},
   "outputs": [],
   "source": [
    "cor3 = df_enrollment_final.corr()\n",
    "cor3"
   ]
  },
  {
   "cell_type": "code",
   "execution_count": 8,
   "id": "e9ac9ee8",
   "metadata": {},
   "outputs": [
    {
     "ename": "NameError",
     "evalue": "name 'cor1' is not defined",
     "output_type": "error",
     "traceback": [
      "\u001b[1;31m---------------------------------------------------------------------------\u001b[0m",
      "\u001b[1;31mNameError\u001b[0m                                 Traceback (most recent call last)",
      "\u001b[1;32m<ipython-input-8-e927f56669f0>\u001b[0m in \u001b[0;36m<module>\u001b[1;34m\u001b[0m\n\u001b[1;32m----> 1\u001b[1;33m \u001b[0mdf_heatmap\u001b[0m \u001b[1;33m=\u001b[0m \u001b[0mpd\u001b[0m\u001b[1;33m.\u001b[0m\u001b[0mconcat\u001b[0m\u001b[1;33m(\u001b[0m\u001b[1;33m[\u001b[0m\u001b[0mcor1\u001b[0m\u001b[1;33m,\u001b[0m \u001b[0mcor2\u001b[0m\u001b[1;33m,\u001b[0m \u001b[0mcor3\u001b[0m\u001b[1;33m]\u001b[0m\u001b[1;33m,\u001b[0m \u001b[0maxis\u001b[0m \u001b[1;33m=\u001b[0m \u001b[1;36m1\u001b[0m\u001b[1;33m,\u001b[0m \u001b[0msort\u001b[0m\u001b[1;33m=\u001b[0m\u001b[1;32mFalse\u001b[0m\u001b[1;33m)\u001b[0m\u001b[1;33m\u001b[0m\u001b[1;33m\u001b[0m\u001b[0m\n\u001b[0m\u001b[0;32m      2\u001b[0m \u001b[0mdf_heatmap\u001b[0m\u001b[1;33m\u001b[0m\u001b[1;33m\u001b[0m\u001b[0m\n",
      "\u001b[1;31mNameError\u001b[0m: name 'cor1' is not defined"
     ]
    }
   ],
   "source": [
    "df_heatmap = pd.concat([cor1, cor2, cor3], axis = 1, sort=False)\n",
    "df_heatmap"
   ]
  },
  {
   "cell_type": "code",
   "execution_count": null,
   "id": "d585d89f",
   "metadata": {},
   "outputs": [],
   "source": [
    "plt.figure(figsize=(10,8))\n",
    "\n",
    "sns.heatmap(df_heatmap.corr(), center=1, annot=True)\n",
    "\n",
    "plt.show()"
   ]
  },
  {
   "cell_type": "code",
   "execution_count": null,
   "id": "0e041ea2",
   "metadata": {},
   "outputs": [],
   "source": [
    "df_extra = pd.concat([df_final, teachers], axis = 0, sort=False)\n",
    "df_extra_final = df_extra[[\"Schools_Income\", \"teachers.instructor\", \"teachers.mobile\", \"teachers.regular\", \"teachers.sped\"]]\n",
    "df_extra_final"
   ]
  },
  {
   "cell_type": "code",
   "execution_count": null,
   "id": "c22fc341",
   "metadata": {},
   "outputs": [],
   "source": [
    "df_extra_final.corr()"
   ]
  },
  {
   "cell_type": "code",
   "execution_count": null,
   "id": "4187b4e4",
   "metadata": {},
   "outputs": [],
   "source": [
    "plt.figure(figsize=(10,8))\n",
    "\n",
    "sns.heatmap(df_extra_final.corr(), center=0.00, annot=True)\n",
    "\n",
    "plt.show()"
   ]
  },
  {
   "cell_type": "code",
   "execution_count": null,
   "id": "441c9b90",
   "metadata": {},
   "outputs": [],
   "source": []
  },
  {
   "cell_type": "code",
   "execution_count": null,
   "id": "3d589143",
   "metadata": {},
   "outputs": [],
   "source": [
    "plt.figure(figsize=(10,8))\n",
    "\n",
    "sns.heatmap(df_extra_final.corr(), center=1, annot=True)\n",
    "\n",
    "plt.show()"
   ]
  },
  {
   "cell_type": "code",
   "execution_count": null,
   "id": "9002f95a",
   "metadata": {},
   "outputs": [],
   "source": [
    "df_new = pd.concat([mooe, df_final], axis = 0, sort=False)\n",
    "df_new.columns = ['School_ID', 'School_Name', 'School_Enrollment', \"School_Offering\", \"School_MOOE\", \"School_Income\", \"School_Teachers\"]\n",
    "\n",
    "df_new"
   ]
  },
  {
   "cell_type": "code",
   "execution_count": null,
   "id": "02482865",
   "metadata": {},
   "outputs": [],
   "source": [
    "plt.figure(figsize=(8,6))\n",
    "plt.scatter(df_new[\"School_MOOE\"], df_new[\"School_Enrollment\"])\n",
    "plt.title(\"Relationship Between Income Level of a Given Region and Teacher Availability\", fontsize=14)\n",
    "plt.ylabel(\"Number of Teachers\")\n",
    "plt.xlabel(\"Income Level (1*10^11)\")\n",
    "plt.show()\n"
   ]
  },
  {
   "cell_type": "code",
   "execution_count": null,
   "id": "8a0ccaff",
   "metadata": {},
   "outputs": [],
   "source": []
  }
 ],
 "metadata": {
  "kernelspec": {
   "display_name": "Python 3",
   "language": "python",
   "name": "python3"
  },
  "language_info": {
   "codemirror_mode": {
    "name": "ipython",
    "version": 3
   },
   "file_extension": ".py",
   "mimetype": "text/x-python",
   "name": "python",
   "nbconvert_exporter": "python",
   "pygments_lexer": "ipython3",
   "version": "3.8.8"
  }
 },
 "nbformat": 4,
 "nbformat_minor": 5
}
